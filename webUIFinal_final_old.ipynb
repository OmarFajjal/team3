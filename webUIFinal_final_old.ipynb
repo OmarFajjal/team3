{
  "cells": [
    {
      "cell_type": "code",
      "execution_count": null,
      "metadata": {
        "colab": {
          "base_uri": "https://localhost:8080/"
        },
        "id": "Qe7PCngXt-Xl",
        "outputId": "e549acef-f590-433e-f006-a60d3a7ef2e8"
      },
      "outputs": [
        {
          "output_type": "stream",
          "name": "stdout",
          "text": [
            "Collecting streamlit\n",
            "  Downloading streamlit-1.46.1-py3-none-any.whl.metadata (9.0 kB)\n",
            "Collecting pyngrok\n",
            "  Downloading pyngrok-7.2.11-py3-none-any.whl.metadata (9.4 kB)\n",
            "Requirement already satisfied: pandas in /usr/local/lib/python3.11/dist-packages (2.2.2)\n",
            "Requirement already satisfied: scikit-learn in /usr/local/lib/python3.11/dist-packages (1.6.1)\n",
            "Requirement already satisfied: altair<6,>=4.0 in /usr/local/lib/python3.11/dist-packages (from streamlit) (5.5.0)\n",
            "Requirement already satisfied: blinker<2,>=1.5.0 in /usr/local/lib/python3.11/dist-packages (from streamlit) (1.9.0)\n",
            "Requirement already satisfied: cachetools<7,>=4.0 in /usr/local/lib/python3.11/dist-packages (from streamlit) (5.5.2)\n",
            "Requirement already satisfied: click<9,>=7.0 in /usr/local/lib/python3.11/dist-packages (from streamlit) (8.2.1)\n",
            "Requirement already satisfied: numpy<3,>=1.23 in /usr/local/lib/python3.11/dist-packages (from streamlit) (2.0.2)\n",
            "Requirement already satisfied: packaging<26,>=20 in /usr/local/lib/python3.11/dist-packages (from streamlit) (24.2)\n",
            "Requirement already satisfied: pillow<12,>=7.1.0 in /usr/local/lib/python3.11/dist-packages (from streamlit) (11.2.1)\n",
            "Requirement already satisfied: protobuf<7,>=3.20 in /usr/local/lib/python3.11/dist-packages (from streamlit) (5.29.5)\n",
            "Requirement already satisfied: pyarrow>=7.0 in /usr/local/lib/python3.11/dist-packages (from streamlit) (18.1.0)\n",
            "Requirement already satisfied: requests<3,>=2.27 in /usr/local/lib/python3.11/dist-packages (from streamlit) (2.32.3)\n",
            "Requirement already satisfied: tenacity<10,>=8.1.0 in /usr/local/lib/python3.11/dist-packages (from streamlit) (8.5.0)\n",
            "Requirement already satisfied: toml<2,>=0.10.1 in /usr/local/lib/python3.11/dist-packages (from streamlit) (0.10.2)\n",
            "Requirement already satisfied: typing-extensions<5,>=4.4.0 in /usr/local/lib/python3.11/dist-packages (from streamlit) (4.14.0)\n",
            "Collecting watchdog<7,>=2.1.5 (from streamlit)\n",
            "  Downloading watchdog-6.0.0-py3-none-manylinux2014_x86_64.whl.metadata (44 kB)\n",
            "\u001b[2K     \u001b[90m━━━━━━━━━━━━━━━━━━━━━━━━━━━━━━━━━━━━━━━━\u001b[0m \u001b[32m44.3/44.3 kB\u001b[0m \u001b[31m2.1 MB/s\u001b[0m eta \u001b[36m0:00:00\u001b[0m\n",
            "\u001b[?25hRequirement already satisfied: gitpython!=3.1.19,<4,>=3.0.7 in /usr/local/lib/python3.11/dist-packages (from streamlit) (3.1.44)\n",
            "Collecting pydeck<1,>=0.8.0b4 (from streamlit)\n",
            "  Downloading pydeck-0.9.1-py2.py3-none-any.whl.metadata (4.1 kB)\n",
            "Requirement already satisfied: tornado!=6.5.0,<7,>=6.0.3 in /usr/local/lib/python3.11/dist-packages (from streamlit) (6.4.2)\n",
            "Requirement already satisfied: PyYAML>=5.1 in /usr/local/lib/python3.11/dist-packages (from pyngrok) (6.0.2)\n",
            "Requirement already satisfied: python-dateutil>=2.8.2 in /usr/local/lib/python3.11/dist-packages (from pandas) (2.9.0.post0)\n",
            "Requirement already satisfied: pytz>=2020.1 in /usr/local/lib/python3.11/dist-packages (from pandas) (2025.2)\n",
            "Requirement already satisfied: tzdata>=2022.7 in /usr/local/lib/python3.11/dist-packages (from pandas) (2025.2)\n",
            "Requirement already satisfied: scipy>=1.6.0 in /usr/local/lib/python3.11/dist-packages (from scikit-learn) (1.15.3)\n",
            "Requirement already satisfied: joblib>=1.2.0 in /usr/local/lib/python3.11/dist-packages (from scikit-learn) (1.5.1)\n",
            "Requirement already satisfied: threadpoolctl>=3.1.0 in /usr/local/lib/python3.11/dist-packages (from scikit-learn) (3.6.0)\n",
            "Requirement already satisfied: jinja2 in /usr/local/lib/python3.11/dist-packages (from altair<6,>=4.0->streamlit) (3.1.6)\n",
            "Requirement already satisfied: jsonschema>=3.0 in /usr/local/lib/python3.11/dist-packages (from altair<6,>=4.0->streamlit) (4.24.0)\n",
            "Requirement already satisfied: narwhals>=1.14.2 in /usr/local/lib/python3.11/dist-packages (from altair<6,>=4.0->streamlit) (1.45.0)\n",
            "Requirement already satisfied: gitdb<5,>=4.0.1 in /usr/local/lib/python3.11/dist-packages (from gitpython!=3.1.19,<4,>=3.0.7->streamlit) (4.0.12)\n",
            "Requirement already satisfied: six>=1.5 in /usr/local/lib/python3.11/dist-packages (from python-dateutil>=2.8.2->pandas) (1.17.0)\n",
            "Requirement already satisfied: charset-normalizer<4,>=2 in /usr/local/lib/python3.11/dist-packages (from requests<3,>=2.27->streamlit) (3.4.2)\n",
            "Requirement already satisfied: idna<4,>=2.5 in /usr/local/lib/python3.11/dist-packages (from requests<3,>=2.27->streamlit) (3.10)\n",
            "Requirement already satisfied: urllib3<3,>=1.21.1 in /usr/local/lib/python3.11/dist-packages (from requests<3,>=2.27->streamlit) (2.4.0)\n",
            "Requirement already satisfied: certifi>=2017.4.17 in /usr/local/lib/python3.11/dist-packages (from requests<3,>=2.27->streamlit) (2025.6.15)\n",
            "Requirement already satisfied: smmap<6,>=3.0.1 in /usr/local/lib/python3.11/dist-packages (from gitdb<5,>=4.0.1->gitpython!=3.1.19,<4,>=3.0.7->streamlit) (5.0.2)\n",
            "Requirement already satisfied: MarkupSafe>=2.0 in /usr/local/lib/python3.11/dist-packages (from jinja2->altair<6,>=4.0->streamlit) (3.0.2)\n",
            "Requirement already satisfied: attrs>=22.2.0 in /usr/local/lib/python3.11/dist-packages (from jsonschema>=3.0->altair<6,>=4.0->streamlit) (25.3.0)\n",
            "Requirement already satisfied: jsonschema-specifications>=2023.03.6 in /usr/local/lib/python3.11/dist-packages (from jsonschema>=3.0->altair<6,>=4.0->streamlit) (2025.4.1)\n",
            "Requirement already satisfied: referencing>=0.28.4 in /usr/local/lib/python3.11/dist-packages (from jsonschema>=3.0->altair<6,>=4.0->streamlit) (0.36.2)\n",
            "Requirement already satisfied: rpds-py>=0.7.1 in /usr/local/lib/python3.11/dist-packages (from jsonschema>=3.0->altair<6,>=4.0->streamlit) (0.26.0)\n",
            "Downloading streamlit-1.46.1-py3-none-any.whl (10.1 MB)\n",
            "\u001b[2K   \u001b[90m━━━━━━━━━━━━━━━━━━━━━━━━━━━━━━━━━━━━━━━━\u001b[0m \u001b[32m10.1/10.1 MB\u001b[0m \u001b[31m42.1 MB/s\u001b[0m eta \u001b[36m0:00:00\u001b[0m\n",
            "\u001b[?25hDownloading pyngrok-7.2.11-py3-none-any.whl (25 kB)\n",
            "Downloading pydeck-0.9.1-py2.py3-none-any.whl (6.9 MB)\n",
            "\u001b[2K   \u001b[90m━━━━━━━━━━━━━━━━━━━━━━━━━━━━━━━━━━━━━━━━\u001b[0m \u001b[32m6.9/6.9 MB\u001b[0m \u001b[31m59.0 MB/s\u001b[0m eta \u001b[36m0:00:00\u001b[0m\n",
            "\u001b[?25hDownloading watchdog-6.0.0-py3-none-manylinux2014_x86_64.whl (79 kB)\n",
            "\u001b[2K   \u001b[90m━━━━━━━━━━━━━━━━━━━━━━━━━━━━━━━━━━━━━━━━\u001b[0m \u001b[32m79.1/79.1 kB\u001b[0m \u001b[31m7.3 MB/s\u001b[0m eta \u001b[36m0:00:00\u001b[0m\n",
            "\u001b[?25hInstalling collected packages: watchdog, pyngrok, pydeck, streamlit\n",
            "Successfully installed pydeck-0.9.1 pyngrok-7.2.11 streamlit-1.46.1 watchdog-6.0.0\n"
          ]
        }
      ],
      "source": [
        "# Install Streamlit, ngrok, and ML libs\n",
        "!pip install streamlit pyngrok pandas scikit-learn"
      ]
    },
    {
      "cell_type": "code",
      "execution_count": null,
      "metadata": {
        "colab": {
          "base_uri": "https://localhost:8080/"
        },
        "id": "hslDVa8RuGeF",
        "outputId": "27a170c9-3567-4307-e840-e37834b3f646"
      },
      "outputs": [
        {
          "output_type": "stream",
          "name": "stdout",
          "text": [
            "Cloning into 'team3'...\n",
            "remote: Enumerating objects: 353, done.\u001b[K\n",
            "remote: Counting objects: 100% (151/151), done.\u001b[K\n",
            "remote: Compressing objects: 100% (103/103), done.\u001b[K\n",
            "remote: Total 353 (delta 61), reused 122 (delta 42), pack-reused 202 (from 1)\u001b[K\n",
            "Receiving objects: 100% (353/353), 40.94 MiB | 36.68 MiB/s, done.\n",
            "Resolving deltas: 100% (165/165), done.\n",
            "/content/team3\n"
          ]
        }
      ],
      "source": [
        "!git clone https://github.com/MostafaElgawad/team3.git\n",
        "%cd team3"
      ]
    },
    {
      "cell_type": "code",
      "execution_count": null,
      "metadata": {
        "colab": {
          "base_uri": "https://localhost:8080/"
        },
        "id": "_AEm5GIUuMfv",
        "outputId": "7e0a6436-c1b5-4af4-ad12-b02db54e612b"
      },
      "outputs": [
        {
          "output_type": "stream",
          "name": "stdout",
          "text": [
            "Switched to a new branch 'webUI-prototype1'\n"
          ]
        }
      ],
      "source": [
        "!git checkout -b webUI-prototype1"
      ]
    },
    {
      "cell_type": "code",
      "execution_count": null,
      "metadata": {
        "id": "0wBfJharuQR7"
      },
      "outputs": [],
      "source": [
        "!touch Pipeline/__init__.py"
      ]
    },
    {
      "cell_type": "code",
      "execution_count": null,
      "metadata": {
        "id": "c-j3GGebv1P8"
      },
      "outputs": [],
      "source": [
        "%%bash\n",
        "mkdir -p webUI"
      ]
    },
    {
      "cell_type": "code",
      "source": [
        "%%writefile /content/team3/webUI/streamlit_app.py\n",
        "import os\n",
        "import sys\n",
        "from PIL import Image\n",
        "\n",
        "# Make project root importable\n",
        "sys.path.append(os.path.abspath(os.path.join(os.path.dirname(__file__), \"..\")))\n",
        "\n",
        "import streamlit as st\n",
        "import pandas as pd\n",
        "import altair as alt\n",
        "import matplotlib.pyplot as plt\n",
        "from sklearn.ensemble import RandomForestRegressor\n",
        "from Pipeline.models import get_model\n",
        "\n",
        "# --- Page config ---\n",
        "st.set_page_config(layout=\"wide\", page_title=\"BCG Churn Analytics\")\n",
        "\n",
        "# --- Global CSS tweaks & Slider styling ---\n",
        "st.markdown(\"\"\"\n",
        "<style>\n",
        "  [data-testid=\"stSidebar\"] { background-color: #DCF9E3 !important; }\n",
        "  .stSidebar .stRadio > label,\n",
        "  .stSidebar .stSlider > div,\n",
        "  .stSidebar .stNumberInput > label {\n",
        "    color: #004734 !important;\n",
        "  }\n",
        "  input[type=\"range\"]::-webkit-slider-runnable-track { background: #004734; height:6px; border-radius:3px; }\n",
        "  input[type=\"range\"]::-webkit-slider-thumb {\n",
        "    -webkit-appearance:none; margin-top:-6px;\n",
        "    background:#fff; border:2px solid #004734;\n",
        "    height:16px;width:16px;border-radius:50%;cursor:pointer;\n",
        "  }\n",
        "  input[type=\"range\"]::-moz-range-track { background: #004734; height:6px; border-radius:3px; }\n",
        "  input[type=\"range\"]::-moz-range-thumb {\n",
        "    background:#fff; border:2px solid #004734;\n",
        "    height:16px;width:16px;border-radius:50%;cursor:pointer;\n",
        "  }\n",
        "  input[type=\"range\"]::-ms-fill-lower  { background: #004734; }\n",
        "  input[type=\"range\"]::-ms-fill-upper  { background: #004734; }\n",
        "  input[type=\"range\"]::-ms-thumb {\n",
        "    background:#fff; border:2px solid #004734;\n",
        "    height:16px;width:16px;border-radius:50%;cursor:pointer;\n",
        "  }\n",
        "</style>\n",
        "\"\"\", unsafe_allow_html=True)\n",
        "\n",
        "# --- Landing Page state ---\n",
        "if \"started\" not in st.session_state:\n",
        "    st.session_state.started = False\n",
        "\n",
        "# --- Landing Page ---\n",
        "if not st.session_state.started:\n",
        "    left, right = st.columns([1,1], gap=\"large\")\n",
        "    with left:\n",
        "        st.image(os.path.join(os.path.dirname(__file__), \"assets/bcg_logo.png\"), width=150)\n",
        "        st.markdown(\"<div style='height:1rem;'></div>\", unsafe_allow_html=True)\n",
        "        st.image(os.path.join(os.path.dirname(__file__), \"assets/uni_saarland_logo.png\"), width=150)\n",
        "        st.markdown(\"<h1 style='color:#003e4f; font-size:3rem;'>BCG Churn Analytics</h1>\", unsafe_allow_html=True)\n",
        "        st.markdown(\"<p style='color:#355c60; font-size:1.2rem;'>Predict churn before it happens with powerful visualizations and predictions.</p>\", unsafe_allow_html=True)\n",
        "        if st.button(\"Get Started\"):\n",
        "            st.session_state.started = True\n",
        "    with right:\n",
        "        try:\n",
        "            st.image(Image.open(os.path.join(os.path.dirname(__file__), \"assets/landing.png\")), use_container_width=True)\n",
        "        except FileNotFoundError:\n",
        "            st.error(\"Landing image not found\")\n",
        "    st.stop()\n",
        "\n",
        "# --- Data loading & models ---\n",
        "@st.cache_data\n",
        "def load_data():\n",
        "    df = pd.read_csv(\"Pipeline/data/Cate_added_data.csv\")\n",
        "    df = df.rename(columns={\"QuarterInt\":\"QuarterIdx\",\"CATE_DR\":\"CATE_CausalML\"})\n",
        "    df = df[[\"Provider\",\"Regionality\",\"QuarterIdx\",\"RiskFactor\",\"Members_Lag\",\"Rate_Lag\",\"ChurnRate\",\"CATE_CausalML\"]]\n",
        "    df[\"Provider\"] = df[\"Provider\"].str.strip()\n",
        "    for c in [\"QuarterIdx\",\"RiskFactor\",\"Members_Lag\",\"Rate_Lag\",\"ChurnRate\",\"CATE_CausalML\"]:\n",
        "        df[c] = pd.to_numeric(df[c], errors=\"coerce\")\n",
        "    return df\n",
        "\n",
        "@st.cache_data\n",
        "def load_time_series():\n",
        "    return pd.read_csv(\"Pipeline/data/Final.csv\")\n",
        "\n",
        "@st.cache_resource\n",
        "def fit_predictive(df):\n",
        "    m = get_model(\"gradient_boosting\")\n",
        "    m.fit(df[[\"Rate_Lag\",\"Members_Lag\",\"RiskFactor\",\"QuarterIdx\"]], df[\"ChurnRate\"])\n",
        "    return m\n",
        "\n",
        "@st.cache_resource\n",
        "def fit_cate_model(df):\n",
        "    m = RandomForestRegressor(random_state=42)\n",
        "    m.fit(df[[\"RiskFactor\",\"Rate_Lag\",\"Members_Lag\",\"QuarterIdx\"]], df[\"CATE_CausalML\"])\n",
        "    return m\n",
        "\n",
        "def get_provider_aggregated_data(df, providers):\n",
        "    if not isinstance(providers, list):\n",
        "        providers = [providers]\n",
        "    out = {}\n",
        "    for p in providers:\n",
        "        sub = df[df.Provider.str.contains(p, case=False, na=False)]\n",
        "        if sub.empty:\n",
        "            out[p] = None\n",
        "            continue\n",
        "        agg = sub.groupby(\"Year\").agg(\n",
        "            ACR=(\"ACR\",\"mean\"),\n",
        "            ChurnRate=(\"ChurnRate\",\"mean\"),\n",
        "            Members=(\"Members\",\"sum\")\n",
        "        ).reset_index()\n",
        "        out[p] = agg if not agg.empty else None\n",
        "    return out\n",
        "\n",
        "def plot_aggregated_provider_data(aggregated_data):\n",
        "    fig, (ax1, ax2) = plt.subplots(1,2,figsize=(16,6))\n",
        "    plotted=False\n",
        "    for name,data in aggregated_data.items():\n",
        "        if data is None: continue\n",
        "        ax1.plot(data.Year, data.ACR, marker=\"o\", label=f\"ACR – {name}\")\n",
        "        ax2.plot(data.Year, data.ChurnRate, marker=\"s\", label=f\"Churn – {name}\")\n",
        "        plotted=True\n",
        "    if not plotted:\n",
        "        st.warning(\"No valid data.\")\n",
        "        return\n",
        "    ax1.set(title=\"ACR Trends\", xlabel=\"Year\", ylabel=\"Average ACR\"); ax1.grid(alpha=0.3); ax1.legend()\n",
        "    ax2.set(title=\"Churn Trends\", xlabel=\"Year\", ylabel=\"Average Churn Rate\"); ax2.grid(alpha=0.3); ax2.legend()\n",
        "    st.pyplot(fig)\n",
        "\n",
        "def plot_provider_data(df, providers):\n",
        "    agg = get_provider_aggregated_data(df, providers)\n",
        "    plot_aggregated_provider_data(agg)\n",
        "\n",
        "\n",
        "## loading the dataset for Jatin's functionality\n",
        "# --- Load everything ---\n",
        "df     = load_data()\n",
        "df2    = load_time_series()\n",
        "pred   = fit_predictive(df)\n",
        "cate   = fit_cate_model(df)\n",
        "plist  = df[\"Provider\"].unique().tolist()\n",
        "\n",
        "# --- Header ---\n",
        "c1, c2, c3 = st.columns([2,6,2], gap=\"small\")\n",
        "with c1: st.image(os.path.join(os.path.dirname(__file__), \"assets/bcg_logo.png\"), width=120)\n",
        "with c2: st.markdown(\"<h1 style='text-align:center;color:#004734;'>Churn Rate Insights Dashboard</h1>\", unsafe_allow_html=True)\n",
        "with c3: st.image(os.path.join(os.path.dirname(__file__), \"assets/uni_saarland_logo.png\"), width=120)\n",
        "st.markdown(\"---\")\n",
        "\n",
        "# --- Sidebar ---\n",
        "st.sidebar.header(\"🔧 Inputs\")\n",
        "mode = st.sidebar.radio(\"Mode\", [\"Single Provider\",\"Compare Providers\",\"Analysis\"])\n",
        "\n",
        "if mode==\"Single Provider\":\n",
        "    prov  = st.sidebar.selectbox(\"Provider\", plist)\n",
        "    acr   = st.sidebar.slider(\"Δ ACR\", df.Rate_Lag.min(), df.Rate_Lag.max(), df.Rate_Lag.mean(), step=0.1)\n",
        "    risk  = st.sidebar.number_input(\"Risk Factor\", df.RiskFactor.min(), df.RiskFactor.max(), df.RiskFactor.mean())\n",
        "    selected=[prov]\n",
        "\n",
        "elif mode==\"Compare Providers\":\n",
        "    selected = st.sidebar.multiselect(\"Providers (exactly 2)\", plist, default=plist[:2])\n",
        "    if len(selected)!=2: st.sidebar.warning(\"Select exactly 2\"); st.stop()\n",
        "    acr1 = st.sidebar.slider(f\"Δ ACR for {selected[0]}\", df.Rate_Lag.min(), df.Rate_Lag.max(), df.Rate_Lag.mean(), step=0.1)\n",
        "    risk1= st.sidebar.number_input(f\"Risk Factor for {selected[0]}\", df.RiskFactor.min(), df.RiskFactor.max(), df.RiskFactor.mean())\n",
        "    acr2 = st.sidebar.slider(f\"Δ ACR for {selected[1]}\", df.Rate_Lag.min(), df.Rate_Lag.max(), df.Rate_Lag.mean(), step=0.1)\n",
        "    risk2= st.sidebar.number_input(f\"Risk Factor for {selected[1]}\", df.Rate_Lag.min(), df.Rate_Lag.max(), df.Rate_Lag.mean())\n",
        "else:\n",
        "    selected = st.sidebar.multiselect(\"Providers to analyze\", plist, default=plist[:3])\n",
        "    if not selected: st.sidebar.warning(\"Pick at least one\"); st.stop()\n",
        "\n",
        "st.markdown(\"---\")\n",
        "\n",
        "def compute_metrics(provider, rf, ac):\n",
        "    sub = df[df.Provider==provider].sort_values(\"QuarterIdx\").iloc[-1]\n",
        "    c = cate.predict([[rf, sub.Rate_Lag, sub.Members_Lag, sub.QuarterIdx]])[0] * ac\n",
        "    p = pred.predict([[sub.Rate_Lag+ac, sub.Members_Lag, rf, sub.QuarterIdx+1]])[0]\n",
        "    return float(c), float(p)\n",
        "\n",
        "# --- Single Provider Output ---\n",
        "if mode==\"Single Provider\":\n",
        "    c_tot, p = compute_metrics(selected[0], risk, acr)\n",
        "    st.subheader(f\"Results for {selected[0]}\")\n",
        "\n",
        "    # Causal\n",
        "    dfc = pd.DataFrame({\"Metric\":[\"Causal churn\"], \"Value\":[c_tot]})\n",
        "    base=alt.Chart(dfc).encode(y=alt.Y(\"Metric:N\",axis=None), x=\"Value:Q\")\n",
        "    bar=base.mark_bar(size=40, color=\"#2ca02c\" if c_tot<0 else \"#de425b\")\n",
        "    pt =base.mark_circle(size=100, color=\"#004734\")\n",
        "    txt_pos = base.mark_text(align='left', dx=5, color=\"#004734\").transform_filter(alt.datum.Value>0).encode(\n",
        "        text=alt.Text(\"Value:Q\", format=\".4f\")\n",
        "    )\n",
        "    txt_neg = base.mark_text(align='right',dx=-5, color=\"#004734\").transform_filter(alt.datum.Value<0).encode(\n",
        "        text=alt.Text(\"Value:Q\", format=\".4f\")\n",
        "    )\n",
        "    st.altair_chart((bar+pt+txt_pos+txt_neg).properties(height=100), use_container_width=True)\n",
        "    st.write(\"💡 A negative Δ churn means churn goes down as ACR increases.\")\n",
        "\n",
        "    st.markdown(\"---\")\n",
        "    # Predictive\n",
        "    dfp = pd.DataFrame({\"Metric\":[\"Predicted churn\"], \"Value\":[p]})\n",
        "    base=alt.Chart(dfp).encode(y=alt.Y(\"Metric:N\",axis=None), x=\"Value:Q\")\n",
        "    bar=base.mark_bar(size=40, color=\"#2ca02c\" if p<0 else \"#de425b\")\n",
        "    pt =base.mark_circle(size=100, color=\"#004734\")\n",
        "    txt_pos = base.mark_text(align='left', dx=5, color=\"#004734\").transform_filter(alt.datum.Value>0).encode(\n",
        "        text=alt.Text(\"Value:Q\", format=\".4f\")\n",
        "    )\n",
        "    txt_neg = base.mark_text(align='right',dx=-5, color=\"#004734\").transform_filter(alt.datum.Value<0).encode(\n",
        "        text=alt.Text(\"Value:Q\", format=\".4f\")\n",
        "    )\n",
        "    st.altair_chart((bar+pt+txt_pos+txt_neg).properties(height=100), use_container_width=True)\n",
        "    st.write(\"💡 Model’s churn‐rate estimate for the given scenario.\")\n",
        "\n",
        "# --- Compare Providers Output ---\n",
        "elif mode==\"Compare Providers\":\n",
        "    c1,p1 = compute_metrics(selected[0], risk1, acr1)\n",
        "    c2,p2 = compute_metrics(selected[1], risk2, acr2)\n",
        "    r1 = df.loc[df.Provider==selected[0],\"Regionality\"].iloc[-1]\n",
        "    r2 = df.loc[df.Provider==selected[1],\"Regionality\"].iloc[-1]\n",
        "    dfc = pd.DataFrame([\n",
        "        {\"Provider\":selected[0],\"Regionality\":r1,\"Causal\":c1,\"Predicted\":p1},\n",
        "        {\"Provider\":selected[1],\"Regionality\":r2,\"Causal\":c2,\"Predicted\":p2}\n",
        "    ])\n",
        "    with st.expander(\"👁️ Comparison table\"):\n",
        "        st.table(dfc[[\"Provider\",\"Regionality\",\"Causal\",\"Predicted\"]]\n",
        "          .style.format({\"Causal\":\"{:.4f}\",\"Predicted\":\"{:.4f}\"}))\n",
        "\n",
        "    st.markdown(\"---\")\n",
        "    # Causal compare\n",
        "    m=max(abs(c1),abs(c2))*1.2\n",
        "    base=alt.Chart(dfc).encode(\n",
        "        y=alt.Y(\"Provider:N\",axis=None),\n",
        "        x=alt.X(\"Causal:Q\",scale=alt.Scale(domain=[-m,m]),title=None)\n",
        "    )\n",
        "    bar=base.mark_bar(cornerRadiusTopLeft=4,cornerRadiusTopRight=4).encode(\n",
        "        color=alt.Color(\"Provider:N\",scale=alt.Scale(domain=selected,range=[\"#2ca02c\",\"#1f77b4\"]))\n",
        "    )\n",
        "    pt =base.mark_circle(size=100, color=\"#004734\")\n",
        "    txt_p = base.mark_text(align='left', dx=5, color=\"#004734\").transform_filter(alt.datum.Causal>0).encode(\n",
        "        text=alt.Text(\"Causal:Q\", format=\".4f\")\n",
        "    )\n",
        "    txt_n = base.mark_text(align='right',dx=-5, color=\"#004734\").transform_filter(alt.datum.Causal<0).encode(\n",
        "        text=alt.Text(\"Causal:Q\", format=\".4f\")\n",
        "    )\n",
        "    st.altair_chart((bar+pt+txt_p+txt_n).properties(title=\"Causal Δ churn\",height=200), use_container_width=True)\n",
        "    st.write(\"💡 How Δ ACR’s impact on churn differs between providers.\")\n",
        "\n",
        "    st.markdown(\"---\")\n",
        "    # Pred compare\n",
        "    m=max(abs(p1),abs(p2))*1.2\n",
        "    base=alt.Chart(dfc).encode(\n",
        "        y=alt.Y(\"Provider:N\",axis=None),\n",
        "        x=alt.X(\"Predicted:Q\",scale=alt.Scale(domain=[-m,m]),title=None)\n",
        "    )\n",
        "    bar=base.mark_bar(cornerRadiusTopLeft=4,cornerRadiusTopRight=4).encode(\n",
        "        color=alt.Color(\"Provider:N\",scale=alt.Scale(domain=selected,range=[\"#2ca02c\",\"#1f77b4\"]))\n",
        "    )\n",
        "    pt =base.mark_circle(size=100, color=\"#004734\")\n",
        "    txt_p = base.mark_text(align='left', dx=5, color=\"#004734\").transform_filter(alt.datum.Predicted>0).encode(\n",
        "        text=alt.Text(\"Predicted:Q\", format=\".4f\")\n",
        "    )\n",
        "    txt_n = base.mark_text(align='right',dx=-5, color=\"#004734\").transform_filter(alt.datum.Predicted<0).encode(\n",
        "        text=alt.Text(\"Predicted:Q\", format=\".4f\")\n",
        "    )\n",
        "    st.altair_chart((bar+pt+txt_p+txt_n).properties(title=\"Predicted churn\",height=200), use_container_width=True)\n",
        "    st.write(\"💡 Each provider’s model‐predicted churn under its own scenario.\")\n",
        "\n",
        "# --- Analysis ---\n",
        "else:\n",
        "    st.subheader(\"Aggregated Trends Analysis\")\n",
        "    st.write(\"Select providers to see their yearly ACR & churn trends.\")\n",
        "    plot_provider_data(df2, selected)"
      ],
      "metadata": {
        "colab": {
          "base_uri": "https://localhost:8080/"
        },
        "id": "pCHVWADbwaQG",
        "outputId": "2b522bbf-c995-46d9-c195-ce58f79241a5"
      },
      "execution_count": 305,
      "outputs": [
        {
          "output_type": "stream",
          "name": "stdout",
          "text": [
            "Overwriting /content/team3/webUI/streamlit_app.py\n"
          ]
        }
      ]
    },
    {
      "cell_type": "code",
      "execution_count": 306,
      "metadata": {
        "id": "924420e7"
      },
      "outputs": [],
      "source": [
        "!mkdir -p webUI/.streamlit"
      ]
    },
    {
      "cell_type": "code",
      "execution_count": 307,
      "metadata": {
        "colab": {
          "base_uri": "https://localhost:8080/"
        },
        "id": "sk3i9GRluTf8",
        "outputId": "7cb4e7b1-ce23-4315-c86d-92b6b53dded8"
      },
      "outputs": [
        {
          "output_type": "stream",
          "name": "stdout",
          "text": [
            "Overwriting webUI/.streamlit/config.toml\n"
          ]
        }
      ],
      "source": [
        "%%writefile webUI/.streamlit/config.toml\n",
        "[theme]\n",
        "primaryColor = \"#004734\"\n",
        "backgroundColor = \"#ffffff\"\n",
        "secondaryBackgroundColor = \"#004734\"\n",
        "textColor = \"#004734\"\n",
        "font = \"sans serif\""
      ]
    },
    {
      "cell_type": "code",
      "execution_count": 308,
      "metadata": {
        "colab": {
          "base_uri": "https://localhost:8080/"
        },
        "id": "Fxx7iNqqv8uU",
        "outputId": "2226ff7d-f5e5-4062-a3f3-7f1443a003af"
      },
      "outputs": [
        {
          "output_type": "stream",
          "name": "stdout",
          "text": [
            "import os\n",
            "import sys\n",
            "from PIL import Image\n",
            "\n",
            "# Make project root importable\n"
          ]
        }
      ],
      "source": [
        "!sed -n '1,5p' webUI/streamlit_app.py"
      ]
    },
    {
      "cell_type": "code",
      "execution_count": 309,
      "metadata": {
        "id": "e68pAKeBxSkQ"
      },
      "outputs": [],
      "source": [
        "# 1. Install pyngrok if you haven't already\n",
        "!pip install pyngrok --quiet\n",
        "#ngrok.kill()\n",
        "# 2. Import and set your own authtoken. DO NOT USE THE ALREADY ENTERED CODE\n",
        "from pyngrok import ngrok\n",
        "\n",
        "ngrok.set_auth_token(\"2zAs5L5ik3JXPVytqbn8FvyRElQ_6kSBLh2WnJkHvm8ZxSpKg\")"
      ]
    },
    {
      "cell_type": "code",
      "execution_count": 310,
      "metadata": {
        "colab": {
          "base_uri": "https://localhost:8080/"
        },
        "id": "PBS6t4iD3BV6",
        "outputId": "75844dfe-021b-41c5-c870-d30842caca6a"
      },
      "outputs": [
        {
          "output_type": "stream",
          "name": "stdout",
          "text": [
            "---- models.py head ----\n",
            "# models.py\n",
            "from sklearn.ensemble import GradientBoostingRegressor, RandomForestRegressor\n",
            "from sklearn.linear_model import Ridge\n",
            "from Pipeline.config import DEFAULT_HYPERPARAMS\n",
            "\n"
          ]
        }
      ],
      "source": [
        "%%bash\n",
        "cd /content/team3\n",
        "\n",
        "# 1) Ensure Pipeline is a package\n",
        "touch Pipeline/__init__.py\n",
        "\n",
        "# 2) Replace the bad import with the correct one:\n",
        "sed -i \\\n",
        "  's|from config import DEFAULT_HYPERPARAMS|from Pipeline.config import DEFAULT_HYPERPARAMS|' \\\n",
        "  Pipeline/models.py\n",
        "\n",
        "# 3) Verify the change:\n",
        "echo \"---- models.py head ----\"\n",
        "head -n 5 Pipeline/models.py"
      ]
    },
    {
      "cell_type": "code",
      "source": [
        "import os, shutil\n",
        "\n",
        "os.makedirs(\"/content/team3/webUI/assets\", exist_ok=True)\n",
        "\n"
      ],
      "metadata": {
        "id": "SmnEWN22iLW1"
      },
      "execution_count": 311,
      "outputs": []
    },
    {
      "cell_type": "code",
      "execution_count": 312,
      "metadata": {
        "id": "aZJijxbcq8mk"
      },
      "outputs": [],
      "source": [
        "ngrok.kill()\n",
        "get_ipython().system_raw(\"streamlit run /content/team3/webUI/streamlit_app.py &\")"
      ]
    },
    {
      "cell_type": "code",
      "execution_count": 313,
      "metadata": {
        "colab": {
          "base_uri": "https://localhost:8080/"
        },
        "id": "i4l2cyHDwHCN",
        "outputId": "38ecd302-9da6-49ad-963d-a868c100a3fe"
      },
      "outputs": [
        {
          "output_type": "stream",
          "name": "stdout",
          "text": [
            "🔗 Your app is live at: https://9123-34-61-105-5.ngrok-free.app\n"
          ]
        }
      ],
      "source": [
        "# Start Streamlit in the background\n",
        "get_ipython().system_raw(\"streamlit run webUI/streamlit_app.py &\")\n",
        "\n",
        "#Tunnel with ngrok\n",
        "from pyngrok import ngrok\n",
        "print(\"🔗 Your app is live at:\", ngrok.connect(8501).public_url)"
      ]
    },
    {
      "cell_type": "code",
      "execution_count": 265,
      "metadata": {
        "id": "WHBJzGjv6wY3",
        "colab": {
          "base_uri": "https://localhost:8080/"
        },
        "outputId": "eececb59-c182-462d-9a85-856c12c126ed"
      },
      "outputs": [
        {
          "output_type": "stream",
          "name": "stdout",
          "text": [
            "Year,Provider,Quarter,Members,ACR,RiskFactor,Regionality,Members_Lag,Rate_Lag,ChurnRate,Treatment,QuarterInt,ACR_next,treatment,CATE_DR,CATE_XL,Quarter_Since_Start\n"
          ]
        }
      ],
      "source": [
        "%%bash\n",
        "cd /content/team3\n",
        "head -n 1 Pipeline/data/Cate_added_data.csv"
      ]
    },
    {
      "cell_type": "code",
      "source": [
        "!ngrok config check"
      ],
      "metadata": {
        "id": "ecEMNNDsyxE-",
        "colab": {
          "base_uri": "https://localhost:8080/"
        },
        "outputId": "b36a3f02-ea05-45bf-be5c-ac6722b0bbc4"
      },
      "execution_count": 266,
      "outputs": [
        {
          "output_type": "stream",
          "name": "stdout",
          "text": [
            "Valid configuration file at /root/.config/ngrok/ngrok.yml\n"
          ]
        }
      ]
    },
    {
      "cell_type": "code",
      "source": [
        "!ngrok start --none"
      ],
      "metadata": {
        "colab": {
          "base_uri": "https://localhost:8080/"
        },
        "id": "U5UubnHe2kOT",
        "outputId": "38129cfa-9a8d-45d8-dad9-5aa69db06f69"
      },
      "execution_count": 267,
      "outputs": [
        {
          "output_type": "stream",
          "name": "stdout",
          "text": [
            "ERROR:  authentication failed: Your account is limited to 1 simultaneous ngrok agent sessions.\n",
            "ERROR:  You can run multiple simultaneous tunnels from a single agent session by defining the tunnels in your agent configuration file and starting them with the command `ngrok start --all`.\n",
            "ERROR:  Read more about the agent configuration file: https://ngrok.com/docs/secure-tunnels/ngrok-agent/reference/config\n",
            "ERROR:  You can view your current agent sessions in the dashboard:\n",
            "ERROR:  https://dashboard.ngrok.com/agents\r\n",
            "ERROR:  \r\n",
            "ERROR:  ERR_NGROK_108\r\n",
            "ERROR:  https://ngrok.com/docs/errors/err_ngrok_108\r\n",
            "ERROR:  \n"
          ]
        }
      ]
    }
  ],
  "metadata": {
    "colab": {
      "provenance": []
    },
    "kernelspec": {
      "display_name": "Python 3",
      "name": "python3"
    },
    "language_info": {
      "name": "python"
    }
  },
  "nbformat": 4,
  "nbformat_minor": 0
}